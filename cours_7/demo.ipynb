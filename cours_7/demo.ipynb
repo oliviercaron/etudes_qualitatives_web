{
 "cells": [
  {
   "cell_type": "markdown",
   "metadata": {},
   "source": [
    "# Démo cours LLMs & transformers"
   ]
  },
  {
   "cell_type": "code",
   "execution_count": 1,
   "metadata": {},
   "outputs": [],
   "source": [
    "import torch\n",
    "import pandas as pd\n",
    "import seaborn as sns\n",
    "import matplotlib.pyplot as plt\n",
    "import numpy as np\n",
    "from transformers import AutoTokenizer, AutoModel, pipeline\n",
    "from gensim.models import Word2Vec\n",
    "import numpy as np"
   ]
  },
  {
   "cell_type": "markdown",
   "metadata": {},
   "source": [
    "## Démonstration : embeddings statiques vs embeddings contextuels\n",
    "\n",
    "Le code suivant illustre la différence fondamentale entre les représentations de mots (*word embeddings*) **statiques** et **contextuelles**. Avec un modèle statique comme **Word2Vec**, un mot (ex: \"avocat\") possède un **unique vecteur**, quelle que soit la phrase. À l'inverse, un modèle moderne comme **CamemBERT** (un Transformer) génère un vecteur **différent** pour \"avocat\" en fonction du contexte, lui permettant de distinguer le fruit 🥑 du juriste 👨‍⚖️. Le code ci-dessous prouve cette distinction en comparant les vecteurs générés dans deux phrases aux sens opposés."
   ]
  },
  {
   "cell_type": "code",
   "execution_count": 17,
   "metadata": {},
   "outputs": [
    {
     "name": "stdout",
     "output_type": "stream",
     "text": [
      "=== A) Word2Vec (statique) ===\n",
      "Dim vecteur 'avocat': 50\n",
      "Extrait 'avocat': [-0.0017  0.0007  0.0099  0.018  -0.0192 -0.0152  0.014   0.0179]\n",
      "Même vecteur pour les deux contextes ? -> True\n",
      "Cosinus( 'avocat' fruit, 'avocat' métier ) -> 1.0\n",
      "Cosinus( phrase fruit, phrase métier ) -> 0.4412\n",
      "\n",
      "=== A) Word2Vec (statique) ===\n",
      "Dim vecteur 'avocat': 50\n",
      "Extrait 'avocat': [-0.0017  0.0007  0.0099  0.018  -0.0192 -0.0152  0.014   0.0179]\n",
      "Même vecteur pour les deux contextes ? -> True\n",
      "Cosinus( 'avocat' fruit, 'avocat' métier ) -> 1.0\n",
      "Cosinus( phrase fruit, phrase métier ) -> 0.4412\n",
      "\n"
     ]
    },
    {
     "name": "stdout",
     "output_type": "stream",
     "text": [
      "=== B) CamemBERT (contextuel) ===\n",
      "Dim vecteur 'avocat' (contextuel): 768\n",
      "Extrait 'avocat' (fruit):    [-0.0226 -0.1815  0.159  -0.1704 -0.1075  0.1613 -0.0099 -0.0805  0.0881  0.121  -0.249   0.0333  0.0632 -0.0215 -0.1109 -0.0044]\n",
      "Extrait 'avocat' (métier):   [-0.0236 -0.116   0.3428 -0.0548 -0.0436  0.2107  0.158  -0.0386  0.1081  0.0726 -0.1534  0.1454  0.2406 -0.0148 -0.0683 -0.1107]\n",
      "Cosinus( 'avocat' fruit, 'avocat' métier ) -> 0.6615\n",
      "=== B) CamemBERT (contextuel) ===\n",
      "Dim vecteur 'avocat' (contextuel): 768\n",
      "Extrait 'avocat' (fruit):    [-0.0226 -0.1815  0.159  -0.1704 -0.1075  0.1613 -0.0099 -0.0805  0.0881  0.121  -0.249   0.0333  0.0632 -0.0215 -0.1109 -0.0044]\n",
      "Extrait 'avocat' (métier):   [-0.0236 -0.116   0.3428 -0.0548 -0.0436  0.2107  0.158  -0.0386  0.1081  0.0726 -0.1534  0.1454  0.2406 -0.0148 -0.0683 -0.1107]\n",
      "Cosinus( 'avocat' fruit, 'avocat' métier ) -> 0.6615\n"
     ]
    }
   ],
   "source": [
    "# Données (deux sens d’\"avocat\")\n",
    "s1 = [\"j\", \"aime\", \"manger\", \"un\", \"avocat\", \"avec\", \"du\", \"citron\"]   # fruit\n",
    "s2 = [\"je\", \"vais\", \"consulter\", \"mon\", \"avocat\", \"pour\", \"ce\", \"litige\"]  # métier\n",
    "sentences = [s1, s2]\n",
    "\n",
    "# ===== A) EMBEDDING STATIQUE (Word2Vec) =====\n",
    "model = Word2Vec(sentences, vector_size=50, min_count=1, sg=1, epochs=200, workers=1)\n",
    "\n",
    "v_avocat_1 = model.wv[\"avocat\"]     # vecteur \"avocat\" (fruit)\n",
    "v_avocat_2 = model.wv[\"avocat\"]     # vecteur \"avocat\" (métier) -> même clé, donc même vecteur\n",
    "\n",
    "def cos(a, b):\n",
    "    na, nb = np.linalg.norm(a), np.linalg.norm(b)\n",
    "    return float(a @ b / (na * nb)) if na and nb else 0.0\n",
    "\n",
    "# Vecteurs de phrase (moyenne des mots) pour montrer que les PHRASES, elles, diffèrent\n",
    "def sent_vec(tokens):\n",
    "    vecs = [model.wv[w] for w in tokens if w in model.wv.key_to_index]\n",
    "    return np.mean(vecs, axis=0) if vecs else np.zeros(model.vector_size)\n",
    "\n",
    "sv1, sv2 = sent_vec(s1), sent_vec(s2)\n",
    "\n",
    "print(\"=== A) Word2Vec (statique) ===\")\n",
    "print(\"Dim vecteur 'avocat':\", v_avocat_1.shape[0])\n",
    "print(\"Extrait 'avocat':\", np.round(v_avocat_1[:8], 4))\n",
    "print(\"Même vecteur pour les deux contextes ? ->\", np.allclose(v_avocat_1, v_avocat_2))\n",
    "print(\"Cosinus( 'avocat' fruit, 'avocat' métier ) ->\", round(cos(v_avocat_1, v_avocat_2), 4))  # ~ 1.0 (identiques)\n",
    "print(\"Cosinus( phrase fruit, phrase métier ) ->\", round(cos(sv1, sv2), 4))  # < 1 (phrases différentes)\n",
    "print()\n",
    "\n",
    "# ===== B) EMBEDDING CONTEXTUEL (CamemBERT) — OPTIONNEL =====\n",
    "# Montre que le même mot a des vecteurs différents selon le contexte\n",
    "# pip install transformers torch sentencepiece  # (si besoin)\n",
    "try:\n",
    "    from transformers import AutoTokenizer, AutoModel\n",
    "    import torch\n",
    "\n",
    "    tokenizer = AutoTokenizer.from_pretrained(\"camembert-base\")\n",
    "    model_ctx = AutoModel.from_pretrained(\"camembert-base\")\n",
    "\n",
    "    def token_embedding_for_avocat(text):\n",
    "        # tokenize + récupérer l’embedding du token qui correspond à \"avocat\"\n",
    "        # On prend l’embedding de la dernière couche (hidden_states[-1]) au centre du sub-token \"avocat\"\n",
    "        with torch.no_grad():\n",
    "            enc = tokenizer(text, return_tensors=\"pt\", add_special_tokens=True, return_offsets_mapping=True)\n",
    "            outputs = model_ctx(**{k: v for k, v in enc.items() if k in [\"input_ids\",\"attention_mask\"]}, output_hidden_states=True)\n",
    "            last_hidden = outputs.hidden_states[-1][0]  # [seq_len, hidden]\n",
    "            tokens = tokenizer.convert_ids_to_tokens(enc[\"input_ids\"][0])\n",
    "\n",
    "            # Trouver l'index du (des) sub-token(s) \"avocat\" (CamemBERT découpe en sous-morceaux)\n",
    "            idxs = [i for i,tok in enumerate(tokens) if \"avocat\" in tok.replace(\"▁\",\"\")]\n",
    "            if not idxs:\n",
    "                return None\n",
    "            # moyenne des sous-tokens \"avocat\"\n",
    "            emb = last_hidden[idxs].mean(dim=0).numpy()\n",
    "            return emb\n",
    "\n",
    "    t1 = \"J'aime manger un avocat avec du citron.\"\n",
    "    t2 = \"Je vais consulter mon avocat pour ce litige.\"\n",
    "\n",
    "    e1 = token_embedding_for_avocat(t1)\n",
    "    e2 = token_embedding_for_avocat(t2)\n",
    "\n",
    "    print(\"=== B) CamemBERT (contextuel) ===\")\n",
    "    if e1 is not None and e2 is not None:\n",
    "        print(\"Dim vecteur 'avocat' (contextuel):\", e1.shape[0])\n",
    "        print(\"Extrait 'avocat' (fruit):   \", np.round(e1[:16], 4))\n",
    "        print(\"Extrait 'avocat' (métier):  \", np.round(e2[:16], 4))\n",
    "        print(\"Cosinus( 'avocat' fruit, 'avocat' métier ) ->\", round(cos(e1, e2), 4))  # typiquement << 1\n",
    "    else:\n",
    "        print(\"Impossible de localiser 'avocat' dans les sous-tokens (tokenizer).\")\n",
    "\n",
    "except Exception as e:\n",
    "    print(\"=== B) CamemBERT (contextuel) ===\")\n",
    "    print(\"Section optionnelle non exécutée (transformers/torch non installés ou autre).\")\n",
    "    print(\"Message :\", e)\n"
   ]
  },
  {
   "cell_type": "markdown",
   "metadata": {},
   "source": [
    "## Démo : Visualiser l'Attention 🔦\n",
    "\n",
    "Pour rendre le mécanisme d'attention concret, prenons la phrase de notre exemple et voyons quels mots le modèle \"regarde\" pour comprendre le pronom \"**il**\".\n",
    "\n",
    "Nous allons utiliser le modèle **CamemBERT** pour extraire ses \"scores d'attention\" et les afficher. Le code ci-dessous montre, pour le mot \"il\", le poids (l'intensité du \"spotlight\") qu'il met sur chaque autre mot de la phrase."
   ]
  },
  {
   "cell_type": "code",
   "execution_count": 16,
   "metadata": {},
   "outputs": [
    {
     "data": {
      "image/png": "[encoded data removed]",
      "text/plain": [
       "<Figure size 1000x600 with 1 Axes>"
      ]
     },
     "metadata": {},
     "output_type": "display_data"
    }
   ],
   "source": [
    "# -- 1. Modèle et phrase --\n",
    "tokenizer = AutoTokenizer.from_pretrained(\"camembert-base\")\n",
    "model = AutoModel.from_pretrained(\"camembert-base\", attn_implementation=\"eager\")\n",
    "text = \"Le livreur a déposé le colis devant la porte, car il était trop lourd.\"\n",
    "\n",
    "# -- 2. Préparation et récupération de l'attention --\n",
    "encoded_input = tokenizer(text, return_tensors='pt')\n",
    "tokens = tokenizer.convert_ids_to_tokens(encoded_input['input_ids'][0])\n",
    "with torch.no_grad():\n",
    "    outputs = model(**encoded_input, output_attentions=True)\n",
    "attention = outputs.attentions[-1][0].mean(dim=0)\n",
    "\n",
    "# -- 3. On se concentre sur le pronom \"il\" --\n",
    "token_to_find = '▁il'\n",
    "token_idx = tokens.index(token_to_find)\n",
    "attention_scores = attention[token_idx].numpy()\n",
    "df = pd.DataFrame({'Token': tokens, 'Attention Score': attention_scores})\n",
    "\n",
    "# -- 4. NOUVELLE ÉTAPE : On filtre les tokens non pertinents --\n",
    "tokens_to_exclude = ['<s>', '</s>', '.', ',', token_to_find] # On enlève les tokens spéciaux, la ponctuation et le mot lui-même\n",
    "df_filtered = df[~df['Token'].isin(tokens_to_exclude)]\n",
    "df_sorted = df_filtered.sort_values('Attention Score', ascending=True)\n",
    "\n",
    "# -- 5. On affiche le résultat filtré ! --\n",
    "plt.figure(figsize=(10, 6))\n",
    "colors = plt.cm.viridis(df_sorted[\"Attention Score\"] / np.max(df_sorted[\"Attention Score\"]))\n",
    "plt.barh(df_sorted['Token'], df_sorted['Attention Score'], color=colors)\n",
    "plt.title(f'Attention Sémantique pour \"{token_to_find}\" (Mots uniquement)')\n",
    "plt.xlabel(\"Score d'Attention (Poids)\")\n",
    "plt.ylabel(\"Mots dans la phrase\")\n",
    "plt.show()\n"
   ]
  },
  {
   "cell_type": "markdown",
   "metadata": {},
   "source": [
    "### Interprétation : comment arrive-t-on à ce résultat ?\n",
    "\n",
    "Obtenir ce graphique clair n'est pas direct. Le résultat final est le fruit d'une démarche en trois temps qui révèle comment le modèle \"pense\" à différents niveaux.\n",
    "\n",
    "\n",
    "#### 1. Première analyse : la vision \"syntaxique\" de la première couche\n",
    "\n",
    "Si l'on regarde l'attention dans la **première couche** du modèle, le résultat est décevant. Le mot `\"il\"` porte son attention sur des mots proches comme `\"déposé\"` ou `\"porte\"`.\n",
    "\n",
    "-   **Pourquoi ?** À ce stade, le modèle a une vision très locale et **syntaxique**. Il ne cherche pas encore le sens, mais plutôt à comprendre la structure grammaticale de base de la phrase.\n",
    "\n",
    "\n",
    "#### 2. Deuxième analyse : la vision \"structurelle\" de la dernière couche\n",
    "\n",
    "En regardant la **dernière couche**, on s'attend à voir le lien sémantique. Pourtant, le résultat est dominé par des tokens techniques :\n",
    "\n",
    "-   `<s>` (début de phrase) et `</s>` (fin de phrase) obtiennent les scores les plus élevés.\n",
    "-   Le modèle porte aussi beaucoup d'attention sur lui-même (`\" il\"`) et sur la ponctuation.\n",
    "-   **Pourquoi ?** À la fin de son analyse, le modèle utilise ces tokens spéciaux comme des \"ancres\" pour consolider la structure et le contexte global de la phrase. Le lien sémantique avec `\"colis\"` est présent, mais noyé au milieu de ce \"bruit\" structurel.\n",
    "\n",
    "\n",
    "#### 3. Résultat final : la vision \"sémantique\" en filtrant le bruit\n",
    "\n",
    "Ce n'est qu'en **filtrant ces tokens techniques** (`<s>`, `</s>`, la ponctuation) et l'attention du mot sur lui-même que l'on isole enfin le signal purement sémantique.\n",
    "\n",
    "\n",
    "\n",
    "Le graphique ci-dessus est donc le résultat de cette analyse finale. Il prouve que, une fois son analyse syntaxique et structurelle terminée, le modèle a bien compris que le mot le plus important pour définir `\"il\"` est **`\"colis\"`**. Cette démarche illustre parfaitement comment l'interprétation des modèles d'IA nécessite de savoir où et comment regarder."
   ]
  },
  {
   "cell_type": "markdown",
   "metadata": {},
   "source": [
    "# Utiliser HuggingFace pour charger des modèles prêts à utilisation"
   ]
  },
  {
   "cell_type": "markdown",
   "metadata": {},
   "source": [
    "## Choisir le bon outil : l'importance d'un modèle adapté\n",
    "\n",
    "La puissance de Hugging Face réside dans la **diversité des modèles disponibles**. Utiliser un modèle générique n'est souvent pas suffisant. Pour obtenir des résultats précis et fiables, il est crucial de choisir un modèle qui soit non seulement adapté à la **langue** (français, anglais, etc.), mais aussi, si possible, au **domaine spécifique** de votre analyse (avis sur des produits, commentaires sur les services publics, etc.).\n",
    "\n",
    "La démonstration ci-dessous compare deux approches :\n",
    "1.  **Le modèle par défaut** : Un modèle généraliste pour l'anglais, qui tente de deviner le sens du texte français.\n",
    "2.  **Un modèle spécialisé** : Un modèle (`oliviercaron/fr-camembert-spplus-sentiment`) spécifiquement entraîné pour analyser le sentiment dans des commentaires d'usagers du service public français.\n",
    "\n",
    "Vous verrez que la pertinence des résultats change radicalement."
   ]
  },
  {
   "cell_type": "code",
   "execution_count": 17,
   "metadata": {},
   "outputs": [
    {
     "name": "stderr",
     "output_type": "stream",
     "text": [
      "No model was supplied, defaulted to distilbert/distilbert-base-uncased-finetuned-sst-2-english and revision 714eb0f (https://huggingface.co/distilbert/distilbert-base-uncased-finetuned-sst-2-english).\n",
      "Using a pipeline without specifying a model name and revision in production is not recommended.\n",
      "Device set to use cuda:0\n"
     ]
    },
    {
     "name": "stdout",
     "output_type": "stream",
     "text": [
      "{'label': 'NEGATIVE', 'score': 0.9783998727798462}\n",
      "{'label': 'NEGATIVE', 'score': 0.9992008805274963}\n"
     ]
    }
   ],
   "source": [
    "from transformers import pipeline\n",
    "\n",
    "# 1. Charger le pipeline pour l'analyse de sentiment\n",
    "analyseur = pipeline(\"sentiment-analysis\")\n",
    "\n",
    "# 2. Donner des phrases à analyser\n",
    "phrases = [\n",
    "    \"Impossible de changer mon adresse de ma carte grise en ligne et la préfecture ne veut rien entendre car ce n'est plus de son ressort. Cela fait maintenant 4 mois.\",\n",
    "    \"I can’t change the address on my vehicle registration certificate online, and the prefecture won’t do anything about it since it’s no longer their responsibility. It’s been 4 months now.\"\n",
    "]\n",
    "\n",
    "# 3. Obtenir les résultats\n",
    "resultats = analyseur(phrases)\n",
    "print(\"\\n\".join(map(str, resultats)))\n"
   ]
  },
  {
   "cell_type": "markdown",
   "metadata": {},
   "source": [
    "## On charge spécifiquement un modèle entraîné sur le français (usagers du service public)"
   ]
  },
  {
   "cell_type": "markdown",
   "metadata": {},
   "source": [
    "Les données : https://www.data.gouv.fr/datasets/liste-des-experiences-partagees-par-les-usagers/"
   ]
  },
  {
   "cell_type": "markdown",
   "metadata": {},
   "source": [
    "Le modèle : https://huggingface.co/oliviercaron/fr-camembert-spplus-sentiment"
   ]
  },
  {
   "cell_type": "markdown",
   "metadata": {},
   "source": [
    "Espace HuggingFace : https://huggingface.co/spaces/oliviercaron/analyse-sentiment-sp-plus"
   ]
  },
  {
   "cell_type": "code",
   "execution_count": 16,
   "metadata": {},
   "outputs": [
    {
     "name": "stderr",
     "output_type": "stream",
     "text": [
      "Device set to use cuda:0\n"
     ]
    },
    {
     "name": "stdout",
     "output_type": "stream",
     "text": [
      "[{'label': 'Négatif', 'score': 0.9821749329566956}, {'label': 'Neutre', 'score': 0.016635430976748466}, {'label': 'Positif', 'score': 0.0011895388597622514}]\n",
      "[{'label': 'Négatif', 'score': 0.8914580941200256}, {'label': 'Neutre', 'score': 0.09904821962118149}, {'label': 'Positif', 'score': 0.009493766352534294}]\n"
     ]
    }
   ],
   "source": [
    "# Initialize the sentiment analysis pipeline\n",
    "classifier = pipeline(\n",
    "    \"text-classification\",\n",
    "    model=\"oliviercaron/fr-camembert-spplus-sentiment\",\n",
    "    device_map=\"auto\",\n",
    "    top_k=None  # Return scores for all classes\n",
    ")\n",
    "\n",
    "# Example texts\n",
    "texts = [\n",
    "    \"Impossible de changer mon adresse de ma carte grise en ligne et la préfecture ne veut rien entendre car ce n'est plus de son ressort. Cela fait maintenant 4 mois.\",\n",
    "    \"I can’t change the address on my vehicle registration certificate online, and the prefecture won’t do anything about it since it’s no longer their responsibility. It’s been 4 months now.\"\n",
    "]\n",
    "\n",
    "# Get predictions\n",
    "results = classifier(texts)\n",
    "\n",
    "print(\"\\n\".join(map(str, results)))"
   ]
  },
  {
   "cell_type": "markdown",
   "metadata": {},
   "source": [
    "## Utiliser des modèles locaux (Ollama)"
   ]
  },
  {
   "cell_type": "markdown",
   "metadata": {},
   "source": [
    "::: callout-note\n",
    "### 1. Installer Ollama\n",
    "Ollama est un outil qui permet de faire tourner des modèles de langage localement sur sa machine.  \n",
    "Il est disponible pour macOS, Linux et Windows (via WSL).  \n",
    "👉 [Télécharger Ollama](https://ollama.com/download)\n",
    "\n",
    ":::"
   ]
  },
  {
   "cell_type": "markdown",
   "metadata": {},
   "source": [
    "::: callout-note\n",
    "### 2. Télécharger un modèle\n",
    "Ollama propose plusieurs modèles (LLaMA, Gemma, Mistral, etc.). Ici on télécharge et charge le modèle gemma3:4b\n",
    "Pour en télécharger un, utilisez la commande :\n",
    "\n",
    "`ollama pull gemma3:4b`"
   ]
  },
  {
   "cell_type": "markdown",
   "metadata": {},
   "source": [
    "Cela télécharge le modèle `gemma3:4b`.  \n",
    "Vous pouvez ensuite voir les modèles disponibles localement avec :"
   ]
  },
  {
   "cell_type": "markdown",
   "metadata": {},
   "source": [
    "`ollama list`"
   ]
  },
  {
   "cell_type": "markdown",
   "metadata": {},
   "source": [
    "::: callout-note\n",
    "### 3. Lancer une requête simple\n",
    "Une fois le modèle installé, vous pouvez le tester directement dans le terminal :\n",
    "\n",
    "`ollama run gemma3:4b`"
   ]
  },
  {
   "cell_type": "markdown",
   "metadata": {},
   "source": [
    "::: callout-note\n",
    "### 4. Utiliser Ollama en Python\n",
    "Ollama fournit une API locale que l’on peut interroger via le package `ollama` pour Python.  \n",
    "Voici un exemple minimal d’analyse de sentiment :"
   ]
  },
  {
   "cell_type": "code",
   "execution_count": 26,
   "metadata": {},
   "outputs": [
    {
     "name": "stdout",
     "output_type": "stream",
     "text": [
      "Texte : Impossible de changer mon adresse de ma carte grise en ligne et la préfecture ne veut rien entendre car ce n'est plus de son ressort. Cela fait maintenant 4 mois.\n",
      "Résultat : {'label': 'Négatif'}\n"
     ]
    }
   ],
   "source": [
    "import ollama, json\n",
    "\n",
    "texte = \"Impossible de changer mon adresse de ma carte grise en ligne et la préfecture ne veut rien entendre car ce n'est plus de son ressort. Cela fait maintenant 4 mois.\"\n",
    "\n",
    "prompt = f\"\"\"\n",
    "Tu es un expert en analyse de sentiment.\n",
    "Classe ce texte en Positif, Négatif ou Neutre.\n",
    "Renvoie uniquement un JSON avec une clé : \n",
    "- \"label\" : la catégorie\n",
    "\n",
    "Texte : \"{texte}\"\n",
    "\"\"\"\n",
    "\n",
    "try:\n",
    "    response = ollama.chat(\n",
    "        model=\"gemma3:4b\",  # change selon le modèle installé\n",
    "        messages=[{\"role\": \"user\", \"content\": prompt}],\n",
    "        format=\"json\"\n",
    "    )\n",
    "    \n",
    "    result = json.loads(response[\"message\"][\"content\"])\n",
    "    print(\"Texte :\", texte)\n",
    "    print(\"Résultat :\", result)\n",
    "\n",
    "except Exception as e:\n",
    "    print(\"Erreur :\", e)\n",
    "    print(\"Vérifie qu'Ollama tourne et que le modèle est bien installé.\")\n"
   ]
  },
  {
   "cell_type": "markdown",
   "metadata": {},
   "source": [
    "## Un exemple marketing"
   ]
  },
  {
   "cell_type": "code",
   "execution_count": null,
   "metadata": {},
   "outputs": [
    {
     "name": "stdout",
     "output_type": "stream",
     "text": [
      "--- Analyse de la Voix du Client avec un LLM ---\n",
      "\n",
      "Avis à analyser :\n",
      "- La livraison a été ultra rapide et le produit est de très bonne qualité. Je recommande vivement !\n",
      "- Très déçu. L'article est arrivé cassé et le service client ne répond pas à mes emails depuis une semaine.\n",
      "- Le design est sympa, mais l'autonomie de la batterie est vraiment trop faible pour mon usage quotidien.\n",
      "- Ce service client est d'une lenteur absolument remarquable... J'attends ma réponse depuis seulement trois semaines.\n",
      "- Bon produit dans l'ensemble, fait ce qu'on lui demande. Rien d'exceptionnel mais pas de mauvaise surprise.\n",
      "--------------------\n",
      "\n",
      "✅ Synthèse marketing générée par l'IA :\n",
      "\n",
      "Points Forts 💪:\n",
      "- Livraison ultra rapide\n",
      "- Qualité du produit (de bonne qualité)\n",
      "- Design sympa\n",
      "\n",
      "Points Faibles 📉:\n",
      "- Service client inefficace (réponses lentes et absence de réponse)\n",
      "- Autonomie de la batterie insuffisante\n",
      "- Qualité générale : 'Rien d'exceptionnel' - Indique un manque de performance ou d'attentes dépassées\n"
     ]
    }
   ],
   "source": [
    "import ollama\n",
    "import json\n",
    "\n",
    "# 1. Définir des avis clients variés (positifs, négatifs, nuancés)\n",
    "avis_clients = [\n",
    "    \"La livraison a été ultra rapide et le produit est de très bonne qualité. Je recommande vivement !\",\n",
    "    \"Très déçu. L'article est arrivé cassé et le service client ne répond pas à mes emails depuis une semaine.\",\n",
    "    \"Le design est sympa, mais l'autonomie de la batterie est vraiment trop faible pour mon usage quotidien.\",\n",
    "    \"Ce service client est d'une lenteur absolument remarquable... J'attends ma réponse depuis seulement trois semaines.\",\n",
    "    \"Bon produit dans l'ensemble, fait ce qu'on lui demande. Rien d'exceptionnel mais pas de mauvaise surprise.\"\n",
    "]\n",
    "\n",
    "# 2. Convertir la liste d'avis en une seule chaîne de caractères formatée\n",
    "texte_avis = \"\\n- \".join(avis_clients)\n",
    "\n",
    "# 3. Créer un prompt précis pour guider le modèle\n",
    "prompt = f\"\"\"\n",
    "Tu es un expert en analyse marketing, spécialisé dans la voix du client.\n",
    "Ta mission est de synthétiser les avis suivants pour en extraire les informations les plus pertinentes.\n",
    "\n",
    "Voici les avis :\n",
    "- {texte_avis}\n",
    "\n",
    "Analyse ces commentaires et identifie :\n",
    "1. Les 3 points forts principaux mentionnés par les clients.\n",
    "2. Les 3 points faibles récurrents ou les plus importants.\n",
    "\n",
    "Ne te contente pas de citer les avis, mais reformule les points de manière synthétique.\n",
    "Réponds **uniquement** en format JSON avec les clés \"points_forts\" et \"points_faibles\".\n",
    "\"\"\"\n",
    "\n",
    "print(\"--- Analyse de la Voix du Client (VoC) avec un LLM ---\")\n",
    "print(\"\\nAvis à analyser :\")\n",
    "for avis in avis_clients:\n",
    "    print(f\"- {avis}\")\n",
    "print(\"-\" * 20)\n",
    "\n",
    "\n",
    "# 4. Appeler l'API Ollama et gérer les erreurs potentielles\n",
    "try:\n",
    "    response = ollama.chat(\n",
    "        model=\"gemma3:4b\",  # Assurez-vous que ce modèle est installé\n",
    "        messages=[{\"role\": \"user\", \"content\": prompt}],\n",
    "        format=\"json\"  # Demander une sortie JSON directement\n",
    "    )\n",
    "\n",
    "    # 5. Charger et afficher le résultat\n",
    "    resultat = json.loads(response[\"message\"][\"content\"])\n",
    "\n",
    "    print(\"\\n✅ Synthèse marketing générée par l'IA :\\n\")\n",
    "\n",
    "    if \"points_forts\" in resultat:\n",
    "        print(\"Points Forts 💪:\")\n",
    "        for point in resultat[\"points_forts\"]:\n",
    "            print(f\"- {point}\")\n",
    "    \n",
    "    if \"points_faibles\" in resultat:\n",
    "        print(\"\\nPoints Faibles 📉:\")\n",
    "        for point in resultat[\"points_faibles\"]:\n",
    "            print(f\"- {point}\")\n",
    "\n",
    "except Exception as e:\n",
    "    print(f\"\\n❌ Erreur lors de la communication avec Ollama : {e}\")\n",
    "    print(\"Veuillez vérifier que Ollama est bien en cours d'exécution et que le modèle 'gemma3:4b' est installé.\")\n",
    "    print(\"Pour l'installer, tapez la commande : ollama pull gemma3:4b\")"
   ]
  },
  {
   "cell_type": "markdown",
   "metadata": {},
   "source": [
    "::: {.callout-tip title=\"Liste exhaustive des paramètres de génération pour Ollama\"}\n",
    "Pour un contrôle total sur la sortie des modèles Ollama, vous pouvez spécifier une série de paramètres via l'objet `options`. Ces réglages permettent d'ajuster tout, de la créativité à la structure des réponses. Voici la liste complète des options disponibles :\n",
    "\n",
    "### Contrôle de la créativité (sampling)\n",
    "\n",
    "-   **`temperature`** (ex: `0.7`)\n",
    "    Règle le niveau d'aléatoire. Une valeur proche de `0` rend le modèle déterministe et factuel, tandis qu'une valeur élevée (`>1.0`) le rend plus créatif, voire chaotique. *Défaut : 0.8*.\n",
    "\n",
    "-   **`top_k`** (ex: `40`)\n",
    "    Filtre le vocabulaire aux `k` mots les plus probables avant chaque nouvelle génération. Empêche le modèle de choisir des mots trop bizarres. *Défaut : 40*.\n",
    "\n",
    "-   **`top_p`** (ex: `0.9`)\n",
    "    Filtre le vocabulaire en sélectionnant le plus petit ensemble de mots dont la probabilité cumulée atteint le seuil `p`. Alternative dynamique à `top_k`. Il est conseillé de n'utiliser que l'un des deux. *Défaut : 0.9*.\n",
    "\n",
    "-   **`seed`** (ex: `42`)\n",
    "    Définit une \"graine\" pour la génération aléatoire. En utilisant la même graine pour le même prompt, vous obtiendrez systématiquement la même réponse, ce qui est utile pour la reproductibilité. *Défaut : 0 (aléatoire)*.\n",
    "\n",
    "-   **`tfs_z`** (ex: `1`)\n",
    "    Active le *tail free sampling*. Cette technique supprime les mots considérés comme improbables de la \"queue\" de la distribution de probabilités. Une valeur de `1` désactive ce filtre. *Défaut : 1*.\n",
    "\n",
    "### Contrôle de la répétition\n",
    "\n",
    "-   **`repeat_penalty`** (ex: `1.1`)\n",
    "    Pénalise les mots qui ont déjà été utilisés dans la réponse, réduisant ainsi les répétitions. Une valeur supérieure à `1` augmente la pénalité. *Défaut : 1.1*.\n",
    "\n",
    "-   **`repeat_last_n`** (ex: `64`)\n",
    "    Définit sur combien de mots précédents la pénalité de répétition doit s'appliquer. Une valeur de `-1` l'applique sur toute la fenêtre de contexte. *Défaut : 64*.\n",
    "\n",
    "### Contrôle de la longueur et de l'arrêt\n",
    "\n",
    "-   **`num_predict`** (ex: `128`)\n",
    "    Le nombre maximum de mots (tokens) à générer. Une valeur de `-1` signifie une génération illimitée jusqu'à l'arrêt naturel ou la fin du contexte. *Défaut : 128*.\n",
    "\n",
    "-   **`stop`** (ex: `[\"\\n\", \"User:\"]`)\n",
    "    Une liste de chaînes de caractères qui, si elles sont générées, arrêteront immédiatement la réponse. Utile pour contrôler le format de sortie (ex: arrêter après un saut de ligne).\n",
    "\n",
    "### Contrôle du contexte\n",
    "\n",
    "-   **`num_ctx`** (ex: `2048`)\n",
    "    Définit la taille de la fenêtre de contexte (en nombre de tokens) que le modèle prendra en compte pour générer sa réponse. *Défaut : 2048*.\n",
    "\n",
    "### Méthodes de sampling avancées (mirostat)\n",
    "\n",
    "Mirostat est un algorithme qui ajuste dynamiquement le taux de surprise (perplexité) des réponses pour maintenir une certaine cohérence.\n",
    "\n",
    "-   **`mirostat`** (ex: `1`)\n",
    "    Active mirostat. `0` = désactivé, `1` = mirostat v1, `2` = mirostat v2. *Défaut : 0*.\n",
    "\n",
    "-   **`mirostat_tau`** (ex: `5.0`)\n",
    "    Le \"taux de surprise\" cible. Influence la cohérence du texte. Des valeurs plus faibles donnent un texte plus cohérent. *Défaut : 5.0*.\n",
    "\n",
    "-   **`mirostat_eta`** (ex: `0.1`)\n",
    "    Le \"taux d'apprentissage\". Détermine la vitesse à laquelle l'algorithme s'ajuste pour atteindre le `taux de surprise` cible. *Défaut : 0.1*.\n",
    "\n",
    ":::\n",
    "\n",
    "````python\n",
    "# Exemple de code combinant plusieurs paramètres pour une tâche spécifique\n",
    "response = ollama.chat(\n",
    "    model=\"gemma3:4b\",\n",
    "    messages=[{'role': 'user', 'content': 'Raconte une très courte histoire.'}],\n",
    "    options={\n",
    "        'seed': 101,\n",
    "        'temperature': 0.9,\n",
    "        'top_k': 50,\n",
    "        'repeat_penalty': 1.2,\n",
    "        'num_predict': 100,\n",
    "        'stop': ['.'] \n",
    "    }\n",
    ")\n",
    "print(response['message']['content'])"
   ]
  },
  {
   "cell_type": "code",
   "execution_count": 32,
   "metadata": {},
   "outputs": [
    {
     "name": "stdout",
     "output_type": "stream",
     "text": [
      "Les 4P du marketing, souvent appelés le \"mix marketing\", sont un cadre conceptuel fondamental utilisé par les marketeurs pour élaborer et mettre en œuvre une stratégie marketing efficace. Elles représentent les quatre éléments clés qui doivent être harmonisés pour atteindre les objectifs de l'entreprise. Ces 4P sont :\n",
      "\n",
      "**1. Produit (Product)**\n",
      "\n",
      "*   **Définition:** Le produit est l'article ou le service que l'entreprise vend. Il peut s'agir d'un bien physique (une voiture, un vêtement) ou d'un service (une consultation, un abonnement).\n",
      "*   **Ce qu'il faut prendre en compte :**\n",
      "    *   **Caractéristiques:** Quelles sont les caractéristiques physiques du produit ? (taille, couleur, matériaux, fonctionnalités)\n",
      "    *   **Avantages:** Quels sont les avantages que le produit offre aux clients ? (résolution de problèmes, amélioration de la vie, statut social)\n",
      "    *   **Qualité:** Quel est le niveau de qualité du produit ? (durabilité, fiabilité, performance)\n",
      "    *   **Design:** Comment le produit est-il conçu ? (esthétique, ergonomie)\n",
      "    *   **Marque:** Quel est l'image de marque associée au produit ?\n",
      "    *   **Innovation:** Le produit est-il innovant et différencié de la concurrence ?\n",
      "    *   **Emballage:** Comment le produit est-il emballé ? (protection, attrait visuel, information)\n",
      "\n",
      "**2. Prix (Price)**\n",
      "\n",
      "*   **Définition:** Le prix est la somme d'argent que les clients sont prêts à payer pour le produit ou le service.\n",
      "*   **Ce qu'il faut prendre en compte :**\n",
      "    *   **Coûts:** Quels sont les coûts de production, de distribution et de marketing ?\n",
      "    *   **Concurrence:** Quels sont les prix pratiqués par les concurrents ?\n",
      "    *   **Valeur Perçue:** Quel est le prix que les clients sont prêts à payer en fonction de la valeur qu'ils attribuent au produit ?\n",
      "    *   **Stratégies de Prix:**  Il existe différentes stratégies de prix :\n",
      "        *   **Prix de coût plus marge:** Calcul du prix en fonction du coût de production et d'une marge bénéficiaire.\n",
      "        *   **Prix basé sur la concurrence:** Fixation du prix en fonction des prix pratiqués par les concurrents.\n",
      "        *   **Prix psychologique:** Utilisation de prix qui influencent la perception du client (ex: 9,99€ au lieu de 10€).\n",
      "        *   **Prix premium:** Prix élevé pour refléter une qualité supérieure et un positionnement de marque haut de gamme.\n",
      "        *   **Prix de pénétration:** Prix bas pour gagner rapidement des parts de marché.\n",
      "\n",
      "**3. Place (Distribution / Channel)**\n",
      "\n",
      "*   **Définition:** \"Place\" se réfère à la manière dont le produit est mis à disposition des clients. Il s'agit de la chaîne de distribution, des canaux de vente et de la logistique.\n",
      "*   **Ce qu'il faut prendre en compte :**\n",
      "    *   **Canaux de distribution:** Quels canaux utiliser pour atteindre les clients ? (vente directe, vente en ligne, détaillants, grossistes, distributeurs)\n",
      "    *   **Logistique:** Comment le produit est-il transporté et stocké ? (transport, entrepôts, gestion des stocks)\n",
      "    *   **Géographie:** Où le produit est-il vendu ? (local, national, international)\n",
      "    *   **Points de vente:** Quels sont les points de vente utilisés ? (magasins physiques, plateformes e-commerce)\n",
      "    *   **Gestion de la relation client (CRM):** Comment les clients sont-ils servis et entretenus ?\n",
      "\n",
      "**4. Promotion (Communication)**\n",
      "\n",
      "*   **Définition:** \"Promotion\" englobe toutes les activités de communication utilisées pour informer, persuader et rappeler aux clients l'existence et les avantages du produit.\n",
      "*   **Ce qu'il faut prendre en compte :**\n",
      "    *   **Publicité:** Utilisation de supports publicitaires (TV, radio, presse, internet) pour atteindre un large public.\n",
      "    *   **Relations publiques:** Gestion de l'image de marque et des relations avec les médias.\n",
      "    *   **Marketing direct:** Communication directe avec les clients (e-mail marketing, SMS marketing, mailing).\n",
      "    *   **Vente personnelle:** Interaction directe entre les vendeurs et les clients.\n",
      "    *   **Marketing de contenu:** Création et diffusion de contenu pertinent pour attirer et fidéliser les clients (blogs, vidéos, infographies).\n",
      "    *   **Marketing des réseaux sociaux:** Utilisation des réseaux sociaux pour interagir avec les clients et promouvoir le produit.\n",
      "    *   **Promotions des ventes:** Offres spéciales, réductions, concours, cadeaux.\n",
      "\n",
      "**L'importance du Mix Marketing**\n",
      "\n",
      "L'objectif principal de l'utilisation des 4P est de créer un ensemble cohérent et harmonieux.  Chaque P doit être aligné avec les autres et adapté aux besoins et aux attentes du public cible.  Un mix marketing bien conçu est essentiel pour :\n",
      "\n",
      "*   **Atteindre les objectifs de l'entreprise:** Augmenter les ventes, développer la part de marché, améliorer la notoriété de la marque.\n",
      "*   **Comprendre le client:**  Les 4P permettent de mieux comprendre les besoins et les motivations des clients.\n",
      "*   **Différencier l'entreprise de la concurrence:**  En créant un mix marketing unique et attrayant.\n",
      "\n",
      "En résumé, les 4P sont un cadre puissant pour la planification et l'exécution des stratégies marketing.  Bien que simple, il offre un cadre structuré pour aborder tous les aspects de l'offre d'un produit ou service.\n",
      "\n"
     ]
    }
   ],
   "source": [
    "# Exemple d'utilisation des options pour une réponse plus factuelle\n",
    "response = ollama.chat(\n",
    "    model=\"gemma3:4b\",\n",
    "    messages=[{'role': 'user', 'content': 'Explique ce que sont les 4P en marketing. Développe bien'}],\n",
    "    options={\n",
    "        'temperature': 0.3,\n",
    "        'top_k': 20\n",
    "    }\n",
    ")\n",
    "\n",
    "print(response['message']['content'])"
   ]
  }
 ],
 "metadata": {
  "kernelspec": {
   "display_name": "Python 3",
   "language": "python",
   "name": "python3"
  },
  "language_info": {
   "codemirror_mode": {
    "name": "ipython",
    "version": 3
   },
   "file_extension": ".py",
   "mimetype": "text/x-python",
   "name": "python",
   "nbconvert_exporter": "python",
   "pygments_lexer": "ipython3",
   "version": "3.12.2"
  }
 },
 "nbformat": 4,
 "nbformat_minor": 2
}
